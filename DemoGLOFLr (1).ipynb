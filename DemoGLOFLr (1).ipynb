{
  "cells": [
    {
      "cell_type": "code",
      "execution_count": null,
      "metadata": {
        "id": "nKE1Qg_jTFEq"
      },
      "outputs": [],
      "source": [
        "import pandas as pd\n",
        "import numpy as np\n",
        "\n",
        "import matplotlib.pyplot as plt\n",
        "import seaborn as sns\n",
        "\n",
        "import scipy.stats as stats\n",
        "import statsmodels.api as sm\n",
        "\n",
        "from sklearn.preprocessing import StandardScaler\n",
        "\n",
        "from sklearn.linear_model import LinearRegression\n",
        "from sklearn.model_selection import train_test_split"
      ]
    },
    {
      "cell_type": "code",
      "execution_count": null,
      "metadata": {
        "id": "5BN9MGl5TVxy"
      },
      "outputs": [],
      "source": [
        "file_path = \"/content/new data 01.csv\""
      ]
    },
    {
      "cell_type": "code",
      "execution_count": null,
      "metadata": {
        "id": "zYKiI1xzTeXB"
      },
      "outputs": [],
      "source": [
        "data = pd.read_csv(file_path)"
      ]
    },
    {
      "cell_type": "code",
      "execution_count": null,
      "metadata": {
        "colab": {
          "base_uri": "https://localhost:8080/"
        },
        "id": "ooNeA_oIcLnD",
        "outputId": "9e5c828f-2adf-4ec6-eb64-63fe4d276db1"
      },
      "outputs": [
        {
          "data": {
            "text/plain": [
              "Index(['DateTime', 'Temperature(℃)', 'Rainfall (mm)', 'Relative Humidity(%)'], dtype='object')"
            ]
          },
          "execution_count": 8,
          "metadata": {},
          "output_type": "execute_result"
        }
      ],
      "source": [
        "data.columns"
      ]
    },
    {
      "cell_type": "code",
      "execution_count": null,
      "metadata": {
        "colab": {
          "base_uri": "https://localhost:8080/",
          "height": 363
        },
        "id": "EBzJaSC0cMUS",
        "outputId": "1b5cece3-1dbe-490d-9099-52e68f5b7ca4"
      },
      "outputs": [
        {
          "data": {
            "application/vnd.google.colaboratory.intrinsic+json": {
              "summary": "{\n  \"name\": \"data\",\n  \"rows\": 40,\n  \"fields\": [\n    {\n      \"column\": \"#NAME?\",\n      \"properties\": {\n        \"dtype\": \"date\",\n        \"min\": \"2024-08-28 08:30:00\",\n        \"max\": \"2024-09-02 05:30:00\",\n        \"num_unique_values\": 40,\n        \"samples\": [\n          \"2024-08-30 17:30:00\",\n          \"2024-08-30 08:30:00\",\n          \"2024-08-30 05:30:00\"\n        ],\n        \"semantic_type\": \"\",\n        \"description\": \"\"\n      }\n    },\n    {\n      \"column\": \"Temperature(\\u2103)\",\n      \"properties\": {\n        \"dtype\": \"number\",\n        \"std\": 1.0127393670836666,\n        \"min\": -1.7170416697811954,\n        \"max\": 1.776737537532051,\n        \"num_unique_values\": 39,\n        \"samples\": [\n          1.4248461065796385,\n          -0.2654895171024901,\n          -0.07069247496811863\n        ],\n        \"semantic_type\": \"\",\n        \"description\": \"\"\n      }\n    },\n    {\n      \"column\": \"Rainfall (mm)\",\n      \"properties\": {\n        \"dtype\": \"number\",\n        \"std\": 1.0127393670836666,\n        \"min\": -0.8595402224952108,\n        \"max\": 3.873610782434363,\n        \"num_unique_values\": 26,\n        \"samples\": [\n          3.873610782434363,\n          1.4313048638907029,\n          -0.8595402224952108\n        ],\n        \"semantic_type\": \"\",\n        \"description\": \"\"\n      }\n    },\n    {\n      \"column\": \"Relative Humidity(%)\",\n      \"properties\": {\n        \"dtype\": \"number\",\n        \"std\": 1.0127393670836666,\n        \"min\": -2.5582412108159973,\n        \"max\": 1.5955282355330742,\n        \"num_unique_values\": 40,\n        \"samples\": [\n          0.7819206224076387,\n          -1.9211393815297566,\n          -1.1142557982648629\n        ],\n        \"semantic_type\": \"\",\n        \"description\": \"\"\n      }\n    },\n    {\n      \"column\": \"month\",\n      \"properties\": {\n        \"dtype\": \"int32\",\n        \"num_unique_values\": 2,\n        \"samples\": [\n          9,\n          8\n        ],\n        \"semantic_type\": \"\",\n        \"description\": \"\"\n      }\n    },\n    {\n      \"column\": \"day\",\n      \"properties\": {\n        \"dtype\": \"int32\",\n        \"num_unique_values\": 6,\n        \"samples\": [\n          28,\n          29\n        ],\n        \"semantic_type\": \"\",\n        \"description\": \"\"\n      }\n    },\n    {\n      \"column\": \"hour\",\n      \"properties\": {\n        \"dtype\": \"int32\",\n        \"num_unique_values\": 8,\n        \"samples\": [\n          11,\n          23\n        ],\n        \"semantic_type\": \"\",\n        \"description\": \"\"\n      }\n    },\n    {\n      \"column\": \"year\",\n      \"properties\": {\n        \"dtype\": \"int32\",\n        \"num_unique_values\": 1,\n        \"samples\": [\n          2024\n        ],\n        \"semantic_type\": \"\",\n        \"description\": \"\"\n      }\n    },\n    {\n      \"column\": \"Risk_Factor\",\n      \"properties\": {\n        \"dtype\": \"number\",\n        \"std\": 0.2645973090654276,\n        \"min\": 0.0,\n        \"max\": 1.0,\n        \"num_unique_values\": 40,\n        \"samples\": [\n          0.6666297961554284\n        ],\n        \"semantic_type\": \"\",\n        \"description\": \"\"\n      }\n    }\n  ]\n}",
              "type": "dataframe",
              "variable_name": "data"
            },
            "text/html": [
              "\n",
              "  <div id=\"df-019294d5-75d1-4785-8961-69fc4ee6ceca\" class=\"colab-df-container\">\n",
              "    <div>\n",
              "<style scoped>\n",
              "    .dataframe tbody tr th:only-of-type {\n",
              "        vertical-align: middle;\n",
              "    }\n",
              "\n",
              "    .dataframe tbody tr th {\n",
              "        vertical-align: top;\n",
              "    }\n",
              "\n",
              "    .dataframe thead th {\n",
              "        text-align: right;\n",
              "    }\n",
              "</style>\n",
              "<table border=\"1\" class=\"dataframe\">\n",
              "  <thead>\n",
              "    <tr style=\"text-align: right;\">\n",
              "      <th></th>\n",
              "      <th>#NAME?</th>\n",
              "      <th>Temperature(℃)</th>\n",
              "      <th>Rainfall (mm)</th>\n",
              "      <th>Relative Humidity(%)</th>\n",
              "      <th>month</th>\n",
              "      <th>day</th>\n",
              "      <th>hour</th>\n",
              "      <th>year</th>\n",
              "      <th>Risk_Factor</th>\n",
              "    </tr>\n",
              "  </thead>\n",
              "  <tbody>\n",
              "    <tr>\n",
              "      <th>1</th>\n",
              "      <td>2024-08-28 08:30:00</td>\n",
              "      <td>0.237213</td>\n",
              "      <td>-0.859540</td>\n",
              "      <td>-1.561404</td>\n",
              "      <td>8</td>\n",
              "      <td>28</td>\n",
              "      <td>8</td>\n",
              "      <td>2024</td>\n",
              "      <td>0.289048</td>\n",
              "    </tr>\n",
              "    <tr>\n",
              "      <th>2</th>\n",
              "      <td>2024-08-28 11:30:00</td>\n",
              "      <td>0.909577</td>\n",
              "      <td>-0.253697</td>\n",
              "      <td>0.104475</td>\n",
              "      <td>8</td>\n",
              "      <td>28</td>\n",
              "      <td>11</td>\n",
              "      <td>2024</td>\n",
              "      <td>0.572729</td>\n",
              "    </tr>\n",
              "    <tr>\n",
              "      <th>3</th>\n",
              "      <td>2024-08-28 14:30:00</td>\n",
              "      <td>0.991266</td>\n",
              "      <td>1.185181</td>\n",
              "      <td>0.852523</td>\n",
              "      <td>8</td>\n",
              "      <td>28</td>\n",
              "      <td>14</td>\n",
              "      <td>2024</td>\n",
              "      <td>0.780086</td>\n",
              "    </tr>\n",
              "    <tr>\n",
              "      <th>4</th>\n",
              "      <td>2024-08-28 17:30:00</td>\n",
              "      <td>0.406874</td>\n",
              "      <td>1.185181</td>\n",
              "      <td>1.279499</td>\n",
              "      <td>8</td>\n",
              "      <td>28</td>\n",
              "      <td>17</td>\n",
              "      <td>2024</td>\n",
              "      <td>0.711158</td>\n",
              "    </tr>\n",
              "    <tr>\n",
              "      <th>5</th>\n",
              "      <td>2024-08-28 20:30:00</td>\n",
              "      <td>-0.070692</td>\n",
              "      <td>1.166248</td>\n",
              "      <td>0.348221</td>\n",
              "      <td>8</td>\n",
              "      <td>28</td>\n",
              "      <td>20</td>\n",
              "      <td>2024</td>\n",
              "      <td>0.567596</td>\n",
              "    </tr>\n",
              "    <tr>\n",
              "      <th>6</th>\n",
              "      <td>2024-08-28 23:30:00</td>\n",
              "      <td>-0.466570</td>\n",
              "      <td>-0.443023</td>\n",
              "      <td>0.301152</td>\n",
              "      <td>8</td>\n",
              "      <td>28</td>\n",
              "      <td>23</td>\n",
              "      <td>2024</td>\n",
              "      <td>0.337569</td>\n",
              "    </tr>\n",
              "    <tr>\n",
              "      <th>7</th>\n",
              "      <td>2024-08-29 02:30:00</td>\n",
              "      <td>-0.887583</td>\n",
              "      <td>-0.045438</td>\n",
              "      <td>0.109518</td>\n",
              "      <td>8</td>\n",
              "      <td>29</td>\n",
              "      <td>2</td>\n",
              "      <td>2024</td>\n",
              "      <td>0.294386</td>\n",
              "    </tr>\n",
              "    <tr>\n",
              "      <th>8</th>\n",
              "      <td>2024-08-29 05:30:00</td>\n",
              "      <td>-1.415420</td>\n",
              "      <td>-0.367293</td>\n",
              "      <td>0.062449</td>\n",
              "      <td>8</td>\n",
              "      <td>29</td>\n",
              "      <td>5</td>\n",
              "      <td>2024</td>\n",
              "      <td>0.171099</td>\n",
              "    </tr>\n",
              "    <tr>\n",
              "      <th>9</th>\n",
              "      <td>2024-08-29 08:30:00</td>\n",
              "      <td>-0.227787</td>\n",
              "      <td>-0.859540</td>\n",
              "      <td>0.200292</td>\n",
              "      <td>8</td>\n",
              "      <td>29</td>\n",
              "      <td>8</td>\n",
              "      <td>2024</td>\n",
              "      <td>0.328991</td>\n",
              "    </tr>\n",
              "    <tr>\n",
              "      <th>10</th>\n",
              "      <td>2024-08-29 11:30:00</td>\n",
              "      <td>0.765050</td>\n",
              "      <td>-0.859540</td>\n",
              "      <td>-0.604911</td>\n",
              "      <td>8</td>\n",
              "      <td>29</td>\n",
              "      <td>11</td>\n",
              "      <td>2024</td>\n",
              "      <td>0.440775</td>\n",
              "    </tr>\n",
              "  </tbody>\n",
              "</table>\n",
              "</div>\n",
              "    <div class=\"colab-df-buttons\">\n",
              "\n",
              "  <div class=\"colab-df-container\">\n",
              "    <button class=\"colab-df-convert\" onclick=\"convertToInteractive('df-019294d5-75d1-4785-8961-69fc4ee6ceca')\"\n",
              "            title=\"Convert this dataframe to an interactive table.\"\n",
              "            style=\"display:none;\">\n",
              "\n",
              "  <svg xmlns=\"http://www.w3.org/2000/svg\" height=\"24px\" viewBox=\"0 -960 960 960\">\n",
              "    <path d=\"M120-120v-720h720v720H120Zm60-500h600v-160H180v160Zm220 220h160v-160H400v160Zm0 220h160v-160H400v160ZM180-400h160v-160H180v160Zm440 0h160v-160H620v160ZM180-180h160v-160H180v160Zm440 0h160v-160H620v160Z\"/>\n",
              "  </svg>\n",
              "    </button>\n",
              "\n",
              "  <style>\n",
              "    .colab-df-container {\n",
              "      display:flex;\n",
              "      gap: 12px;\n",
              "    }\n",
              "\n",
              "    .colab-df-convert {\n",
              "      background-color: #E8F0FE;\n",
              "      border: none;\n",
              "      border-radius: 50%;\n",
              "      cursor: pointer;\n",
              "      display: none;\n",
              "      fill: #1967D2;\n",
              "      height: 32px;\n",
              "      padding: 0 0 0 0;\n",
              "      width: 32px;\n",
              "    }\n",
              "\n",
              "    .colab-df-convert:hover {\n",
              "      background-color: #E2EBFA;\n",
              "      box-shadow: 0px 1px 2px rgba(60, 64, 67, 0.3), 0px 1px 3px 1px rgba(60, 64, 67, 0.15);\n",
              "      fill: #174EA6;\n",
              "    }\n",
              "\n",
              "    .colab-df-buttons div {\n",
              "      margin-bottom: 4px;\n",
              "    }\n",
              "\n",
              "    [theme=dark] .colab-df-convert {\n",
              "      background-color: #3B4455;\n",
              "      fill: #D2E3FC;\n",
              "    }\n",
              "\n",
              "    [theme=dark] .colab-df-convert:hover {\n",
              "      background-color: #434B5C;\n",
              "      box-shadow: 0px 1px 3px 1px rgba(0, 0, 0, 0.15);\n",
              "      filter: drop-shadow(0px 1px 2px rgba(0, 0, 0, 0.3));\n",
              "      fill: #FFFFFF;\n",
              "    }\n",
              "  </style>\n",
              "\n",
              "    <script>\n",
              "      const buttonEl =\n",
              "        document.querySelector('#df-019294d5-75d1-4785-8961-69fc4ee6ceca button.colab-df-convert');\n",
              "      buttonEl.style.display =\n",
              "        google.colab.kernel.accessAllowed ? 'block' : 'none';\n",
              "\n",
              "      async function convertToInteractive(key) {\n",
              "        const element = document.querySelector('#df-019294d5-75d1-4785-8961-69fc4ee6ceca');\n",
              "        const dataTable =\n",
              "          await google.colab.kernel.invokeFunction('convertToInteractive',\n",
              "                                                    [key], {});\n",
              "        if (!dataTable) return;\n",
              "\n",
              "        const docLinkHtml = 'Like what you see? Visit the ' +\n",
              "          '<a target=\"_blank\" href=https://colab.research.google.com/notebooks/data_table.ipynb>data table notebook</a>'\n",
              "          + ' to learn more about interactive tables.';\n",
              "        element.innerHTML = '';\n",
              "        dataTable['output_type'] = 'display_data';\n",
              "        await google.colab.output.renderOutput(dataTable, element);\n",
              "        const docLink = document.createElement('div');\n",
              "        docLink.innerHTML = docLinkHtml;\n",
              "        element.appendChild(docLink);\n",
              "      }\n",
              "    </script>\n",
              "  </div>\n",
              "\n",
              "\n",
              "<div id=\"df-e17364b0-1bd2-40dd-ae9d-b26902819457\">\n",
              "  <button class=\"colab-df-quickchart\" onclick=\"quickchart('df-e17364b0-1bd2-40dd-ae9d-b26902819457')\"\n",
              "            title=\"Suggest charts\"\n",
              "            style=\"display:none;\">\n",
              "\n",
              "<svg xmlns=\"http://www.w3.org/2000/svg\" height=\"24px\"viewBox=\"0 0 24 24\"\n",
              "     width=\"24px\">\n",
              "    <g>\n",
              "        <path d=\"M19 3H5c-1.1 0-2 .9-2 2v14c0 1.1.9 2 2 2h14c1.1 0 2-.9 2-2V5c0-1.1-.9-2-2-2zM9 17H7v-7h2v7zm4 0h-2V7h2v10zm4 0h-2v-4h2v4z\"/>\n",
              "    </g>\n",
              "</svg>\n",
              "  </button>\n",
              "\n",
              "<style>\n",
              "  .colab-df-quickchart {\n",
              "      --bg-color: #E8F0FE;\n",
              "      --fill-color: #1967D2;\n",
              "      --hover-bg-color: #E2EBFA;\n",
              "      --hover-fill-color: #174EA6;\n",
              "      --disabled-fill-color: #AAA;\n",
              "      --disabled-bg-color: #DDD;\n",
              "  }\n",
              "\n",
              "  [theme=dark] .colab-df-quickchart {\n",
              "      --bg-color: #3B4455;\n",
              "      --fill-color: #D2E3FC;\n",
              "      --hover-bg-color: #434B5C;\n",
              "      --hover-fill-color: #FFFFFF;\n",
              "      --disabled-bg-color: #3B4455;\n",
              "      --disabled-fill-color: #666;\n",
              "  }\n",
              "\n",
              "  .colab-df-quickchart {\n",
              "    background-color: var(--bg-color);\n",
              "    border: none;\n",
              "    border-radius: 50%;\n",
              "    cursor: pointer;\n",
              "    display: none;\n",
              "    fill: var(--fill-color);\n",
              "    height: 32px;\n",
              "    padding: 0;\n",
              "    width: 32px;\n",
              "  }\n",
              "\n",
              "  .colab-df-quickchart:hover {\n",
              "    background-color: var(--hover-bg-color);\n",
              "    box-shadow: 0 1px 2px rgba(60, 64, 67, 0.3), 0 1px 3px 1px rgba(60, 64, 67, 0.15);\n",
              "    fill: var(--button-hover-fill-color);\n",
              "  }\n",
              "\n",
              "  .colab-df-quickchart-complete:disabled,\n",
              "  .colab-df-quickchart-complete:disabled:hover {\n",
              "    background-color: var(--disabled-bg-color);\n",
              "    fill: var(--disabled-fill-color);\n",
              "    box-shadow: none;\n",
              "  }\n",
              "\n",
              "  .colab-df-spinner {\n",
              "    border: 2px solid var(--fill-color);\n",
              "    border-color: transparent;\n",
              "    border-bottom-color: var(--fill-color);\n",
              "    animation:\n",
              "      spin 1s steps(1) infinite;\n",
              "  }\n",
              "\n",
              "  @keyframes spin {\n",
              "    0% {\n",
              "      border-color: transparent;\n",
              "      border-bottom-color: var(--fill-color);\n",
              "      border-left-color: var(--fill-color);\n",
              "    }\n",
              "    20% {\n",
              "      border-color: transparent;\n",
              "      border-left-color: var(--fill-color);\n",
              "      border-top-color: var(--fill-color);\n",
              "    }\n",
              "    30% {\n",
              "      border-color: transparent;\n",
              "      border-left-color: var(--fill-color);\n",
              "      border-top-color: var(--fill-color);\n",
              "      border-right-color: var(--fill-color);\n",
              "    }\n",
              "    40% {\n",
              "      border-color: transparent;\n",
              "      border-right-color: var(--fill-color);\n",
              "      border-top-color: var(--fill-color);\n",
              "    }\n",
              "    60% {\n",
              "      border-color: transparent;\n",
              "      border-right-color: var(--fill-color);\n",
              "    }\n",
              "    80% {\n",
              "      border-color: transparent;\n",
              "      border-right-color: var(--fill-color);\n",
              "      border-bottom-color: var(--fill-color);\n",
              "    }\n",
              "    90% {\n",
              "      border-color: transparent;\n",
              "      border-bottom-color: var(--fill-color);\n",
              "    }\n",
              "  }\n",
              "</style>\n",
              "\n",
              "  <script>\n",
              "    async function quickchart(key) {\n",
              "      const quickchartButtonEl =\n",
              "        document.querySelector('#' + key + ' button');\n",
              "      quickchartButtonEl.disabled = true;  // To prevent multiple clicks.\n",
              "      quickchartButtonEl.classList.add('colab-df-spinner');\n",
              "      try {\n",
              "        const charts = await google.colab.kernel.invokeFunction(\n",
              "            'suggestCharts', [key], {});\n",
              "      } catch (error) {\n",
              "        console.error('Error during call to suggestCharts:', error);\n",
              "      }\n",
              "      quickchartButtonEl.classList.remove('colab-df-spinner');\n",
              "      quickchartButtonEl.classList.add('colab-df-quickchart-complete');\n",
              "    }\n",
              "    (() => {\n",
              "      let quickchartButtonEl =\n",
              "        document.querySelector('#df-e17364b0-1bd2-40dd-ae9d-b26902819457 button');\n",
              "      quickchartButtonEl.style.display =\n",
              "        google.colab.kernel.accessAllowed ? 'block' : 'none';\n",
              "    })();\n",
              "  </script>\n",
              "</div>\n",
              "\n",
              "    </div>\n",
              "  </div>\n"
            ],
            "text/plain": [
              "                #NAME?  Temperature(℃)  Rainfall (mm)  Relative Humidity(%)  \\\n",
              "1  2024-08-28 08:30:00        0.237213      -0.859540             -1.561404   \n",
              "2  2024-08-28 11:30:00        0.909577      -0.253697              0.104475   \n",
              "3  2024-08-28 14:30:00        0.991266       1.185181              0.852523   \n",
              "4  2024-08-28 17:30:00        0.406874       1.185181              1.279499   \n",
              "5  2024-08-28 20:30:00       -0.070692       1.166248              0.348221   \n",
              "6  2024-08-28 23:30:00       -0.466570      -0.443023              0.301152   \n",
              "7  2024-08-29 02:30:00       -0.887583      -0.045438              0.109518   \n",
              "8  2024-08-29 05:30:00       -1.415420      -0.367293              0.062449   \n",
              "9  2024-08-29 08:30:00       -0.227787      -0.859540              0.200292   \n",
              "10 2024-08-29 11:30:00        0.765050      -0.859540             -0.604911   \n",
              "\n",
              "    month  day  hour  year  Risk_Factor  \n",
              "1       8   28     8  2024     0.289048  \n",
              "2       8   28    11  2024     0.572729  \n",
              "3       8   28    14  2024     0.780086  \n",
              "4       8   28    17  2024     0.711158  \n",
              "5       8   28    20  2024     0.567596  \n",
              "6       8   28    23  2024     0.337569  \n",
              "7       8   29     2  2024     0.294386  \n",
              "8       8   29     5  2024     0.171099  \n",
              "9       8   29     8  2024     0.328991  \n",
              "10      8   29    11  2024     0.440775  "
            ]
          },
          "execution_count": 97,
          "metadata": {},
          "output_type": "execute_result"
        }
      ],
      "source": [
        "data.head(10)"
      ]
    },
    {
      "cell_type": "code",
      "execution_count": null,
      "metadata": {
        "colab": {
          "base_uri": "https://localhost:8080/"
        },
        "id": "TiyQ4pM3cRix",
        "outputId": "be0046d1-5cc3-4de3-a580-8256edfc35d7"
      },
      "outputs": [
        {
          "name": "stdout",
          "output_type": "stream",
          "text": [
            "<class 'pandas.core.frame.DataFrame'>\n",
            "RangeIndex: 41 entries, 0 to 40\n",
            "Data columns (total 4 columns):\n",
            " #   Column                Non-Null Count  Dtype  \n",
            "---  ------                --------------  -----  \n",
            " 0   #NAME?                41 non-null     object \n",
            " 1   Temperature(℃)        40 non-null     float64\n",
            " 2   Rainfall (mm)         40 non-null     float64\n",
            " 3   Relative Humidity(%)  40 non-null     float64\n",
            "dtypes: float64(3), object(1)\n",
            "memory usage: 1.4+ KB\n"
          ]
        }
      ],
      "source": [
        "data.info()"
      ]
    },
    {
      "cell_type": "code",
      "execution_count": null,
      "metadata": {
        "colab": {
          "base_uri": "https://localhost:8080/"
        },
        "id": "9dTTVB6rcXXt",
        "outputId": "6c7a2802-7be3-4790-b360-bb0884b20d8b"
      },
      "outputs": [
        {
          "data": {
            "text/plain": [
              "array(['8/28/2024 5:30', '8/28/2024 8:30', '8/28/2024 11:30',\n",
              "       '8/28/2024 14:30', '8/28/2024 17:30', '8/28/2024 20:30',\n",
              "       '8/28/2024 23:30', '8/29/2024 2:30', '8/29/2024 5:30',\n",
              "       '8/29/2024 8:30', '8/29/2024 11:30', '8/29/2024 14:30',\n",
              "       '8/29/2024 17:30', '8/29/2024 20:30', '8/29/2024 23:30',\n",
              "       '8/30/2024 2:30', '8/30/2024 5:30', '8/30/2024 8:30',\n",
              "       '8/30/2024 11:30', '8/30/2024 14:30', '8/30/2024 17:30',\n",
              "       '8/30/2024 20:30', '8/30/2024 23:30', '8/31/2024 2:30',\n",
              "       '8/31/2024 5:30', '8/31/2024 8:30', '8/31/2024 11:30',\n",
              "       '8/31/2024 14:30', '8/31/2024 17:30', '8/31/2024 20:30',\n",
              "       '8/31/2024 23:30', '09-01-2024 02:30', '09-01-2024 05:30',\n",
              "       '09-01-2024 08:30', '09-01-2024 11:30', '09-01-2024 14:30',\n",
              "       '09-01-2024 17:30', '09-01-2024 20:30', '09-01-2024 23:30',\n",
              "       '09-02-2024 02:30', '09-02-2024 05:30'], dtype=object)"
            ]
          },
          "execution_count": 54,
          "metadata": {},
          "output_type": "execute_result"
        }
      ],
      "source": [
        "data[\"#NAME?\"].unique()"
      ]
    },
    {
      "cell_type": "code",
      "execution_count": null,
      "metadata": {
        "colab": {
          "base_uri": "https://localhost:8080/"
        },
        "id": "a57Zrr_Ycdta",
        "outputId": "e7c961b5-eecd-413e-dc52-fd245efb6bf1"
      },
      "outputs": [
        {
          "name": "stdout",
          "output_type": "stream",
          "text": [
            "Number of unique dates: 40\n"
          ]
        }
      ],
      "source": [
        "unique_dates_count = data['#NAME?'].nunique()\n",
        "print(f\"Number of unique dates: {unique_dates_count}\")"
      ]
    },
    {
      "cell_type": "code",
      "execution_count": null,
      "metadata": {
        "id": "dXoEF1UYdMvj"
      },
      "outputs": [],
      "source": [
        "#Convert Date column to datetime format with specific format\n",
        "data['#NAME?'] = pd.to_datetime(data['#NAME?'], format='mixed')\n"
      ]
    },
    {
      "cell_type": "code",
      "execution_count": null,
      "metadata": {
        "colab": {
          "base_uri": "https://localhost:8080/",
          "height": 449
        },
        "id": "CmAjMiWffgRg",
        "outputId": "c592ad57-84ab-4c7c-9444-79b025309c99"
      },
      "outputs": [
        {
          "data": {
            "image/png": "[encoded data removed]",
            "text/plain": [
              "<Figure size 640x480 with 1 Axes>"
            ]
          },
          "metadata": {},
          "output_type": "display_data"
        }
      ],
      "source": [
        "\n",
        "plt.plot(data['#NAME?'], data['Temperature(℃)'])\n",
        "plt.xlabel('TIME')\n",
        "plt.ylabel('Average Temperature (Temperature(℃))')\n",
        "plt.show()\n"
      ]
    },
    {
      "cell_type": "code",
      "execution_count": null,
      "metadata": {
        "colab": {
          "base_uri": "https://localhost:8080/"
        },
        "id": "oLlgiKOEhKgU",
        "outputId": "af641687-c94d-4225-e530-921a335e09a2"
      },
      "outputs": [
        {
          "name": "stdout",
          "output_type": "stream",
          "text": [
            "Missing Values in Each Column:\n",
            " #NAME?                  0\n",
            "Temperature(℃)          0\n",
            "Rainfall (mm)           0\n",
            "Relative Humidity(%)    0\n",
            "month                   0\n",
            "day                     0\n",
            "hour                    0\n",
            "year                    0\n",
            "Risk_Factor             0\n",
            "dtype: int64\n",
            "\n",
            "Percentage of Missing Data:\n",
            " #NAME?                  0.0\n",
            "Temperature(℃)          0.0\n",
            "Rainfall (mm)           0.0\n",
            "Relative Humidity(%)    0.0\n",
            "month                   0.0\n",
            "day                     0.0\n",
            "hour                    0.0\n",
            "year                    0.0\n",
            "Risk_Factor             0.0\n",
            "dtype: float64\n"
          ]
        }
      ],
      "source": [
        "# Check for missing values\n",
        "missing_values = data.isnull().sum()\n",
        "\n",
        "# Calculate the percentage of missing data in each column\n",
        "missing_percentage = (missing_values / len(data)) * 100\n",
        "\n",
        "# Display the missing data statistics\n",
        "print(\"Missing Values in Each Column:\\n\", missing_values)\n",
        "print(\"\\nPercentage of Missing Data:\\n\", missing_percentage)"
      ]
    },
    {
      "cell_type": "code",
      "execution_count": null,
      "metadata": {
        "colab": {
          "base_uri": "https://localhost:8080/",
          "height": 363
        },
        "id": "S6L7_8KsixaT",
        "outputId": "c067f819-bd45-464f-90f5-d9301bd60625"
      },
      "outputs": [
        {
          "data": {
            "application/vnd.google.colaboratory.intrinsic+json": {
              "summary": "{\n  \"name\": \"data\",\n  \"rows\": 40,\n  \"fields\": [\n    {\n      \"column\": \"#NAME?\",\n      \"properties\": {\n        \"dtype\": \"date\",\n        \"min\": \"2024-08-28 08:30:00\",\n        \"max\": \"2024-09-02 05:30:00\",\n        \"num_unique_values\": 40,\n        \"samples\": [\n          \"2024-08-30 17:30:00\",\n          \"2024-08-30 08:30:00\",\n          \"2024-08-30 05:30:00\"\n        ],\n        \"semantic_type\": \"\",\n        \"description\": \"\"\n      }\n    },\n    {\n      \"column\": \"Temperature(\\u2103)\",\n      \"properties\": {\n        \"dtype\": \"number\",\n        \"std\": 1.0127393670836666,\n        \"min\": -1.7170416697811954,\n        \"max\": 1.776737537532051,\n        \"num_unique_values\": 39,\n        \"samples\": [\n          1.4248461065796385,\n          -0.2654895171024901,\n          -0.07069247496811863\n        ],\n        \"semantic_type\": \"\",\n        \"description\": \"\"\n      }\n    },\n    {\n      \"column\": \"Rainfall (mm)\",\n      \"properties\": {\n        \"dtype\": \"number\",\n        \"std\": 1.0127393670836666,\n        \"min\": -0.8595402224952108,\n        \"max\": 3.873610782434363,\n        \"num_unique_values\": 26,\n        \"samples\": [\n          3.873610782434363,\n          1.4313048638907029,\n          -0.8595402224952108\n        ],\n        \"semantic_type\": \"\",\n        \"description\": \"\"\n      }\n    },\n    {\n      \"column\": \"Relative Humidity(%)\",\n      \"properties\": {\n        \"dtype\": \"number\",\n        \"std\": 1.0127393670836666,\n        \"min\": -2.5582412108159973,\n        \"max\": 1.5955282355330742,\n        \"num_unique_values\": 40,\n        \"samples\": [\n          0.7819206224076387,\n          -1.9211393815297566,\n          -1.1142557982648629\n        ],\n        \"semantic_type\": \"\",\n        \"description\": \"\"\n      }\n    },\n    {\n      \"column\": \"month\",\n      \"properties\": {\n        \"dtype\": \"int32\",\n        \"num_unique_values\": 2,\n        \"samples\": [\n          9,\n          8\n        ],\n        \"semantic_type\": \"\",\n        \"description\": \"\"\n      }\n    },\n    {\n      \"column\": \"day\",\n      \"properties\": {\n        \"dtype\": \"int32\",\n        \"num_unique_values\": 6,\n        \"samples\": [\n          28,\n          29\n        ],\n        \"semantic_type\": \"\",\n        \"description\": \"\"\n      }\n    },\n    {\n      \"column\": \"hour\",\n      \"properties\": {\n        \"dtype\": \"int32\",\n        \"num_unique_values\": 8,\n        \"samples\": [\n          11,\n          23\n        ],\n        \"semantic_type\": \"\",\n        \"description\": \"\"\n      }\n    },\n    {\n      \"column\": \"year\",\n      \"properties\": {\n        \"dtype\": \"int32\",\n        \"num_unique_values\": 1,\n        \"samples\": [\n          2024\n        ],\n        \"semantic_type\": \"\",\n        \"description\": \"\"\n      }\n    },\n    {\n      \"column\": \"Risk_Factor\",\n      \"properties\": {\n        \"dtype\": \"number\",\n        \"std\": 0.2645973090654276,\n        \"min\": 0.0,\n        \"max\": 1.0,\n        \"num_unique_values\": 40,\n        \"samples\": [\n          0.6666297961554284\n        ],\n        \"semantic_type\": \"\",\n        \"description\": \"\"\n      }\n    }\n  ]\n}",
              "type": "dataframe",
              "variable_name": "data"
            },
            "text/html": [
              "\n",
              "  <div id=\"df-d56043eb-7f0f-40aa-8617-9f423c42558e\" class=\"colab-df-container\">\n",
              "    <div>\n",
              "<style scoped>\n",
              "    .dataframe tbody tr th:only-of-type {\n",
              "        vertical-align: middle;\n",
              "    }\n",
              "\n",
              "    .dataframe tbody tr th {\n",
              "        vertical-align: top;\n",
              "    }\n",
              "\n",
              "    .dataframe thead th {\n",
              "        text-align: right;\n",
              "    }\n",
              "</style>\n",
              "<table border=\"1\" class=\"dataframe\">\n",
              "  <thead>\n",
              "    <tr style=\"text-align: right;\">\n",
              "      <th></th>\n",
              "      <th>#NAME?</th>\n",
              "      <th>Temperature(℃)</th>\n",
              "      <th>Rainfall (mm)</th>\n",
              "      <th>Relative Humidity(%)</th>\n",
              "      <th>month</th>\n",
              "      <th>day</th>\n",
              "      <th>hour</th>\n",
              "      <th>year</th>\n",
              "      <th>Risk_Factor</th>\n",
              "    </tr>\n",
              "  </thead>\n",
              "  <tbody>\n",
              "    <tr>\n",
              "      <th>1</th>\n",
              "      <td>2024-08-28 08:30:00</td>\n",
              "      <td>0.237213</td>\n",
              "      <td>-0.859540</td>\n",
              "      <td>-1.561404</td>\n",
              "      <td>8</td>\n",
              "      <td>28</td>\n",
              "      <td>8</td>\n",
              "      <td>2024</td>\n",
              "      <td>0.289048</td>\n",
              "    </tr>\n",
              "    <tr>\n",
              "      <th>2</th>\n",
              "      <td>2024-08-28 11:30:00</td>\n",
              "      <td>0.909577</td>\n",
              "      <td>-0.253697</td>\n",
              "      <td>0.104475</td>\n",
              "      <td>8</td>\n",
              "      <td>28</td>\n",
              "      <td>11</td>\n",
              "      <td>2024</td>\n",
              "      <td>0.572729</td>\n",
              "    </tr>\n",
              "    <tr>\n",
              "      <th>3</th>\n",
              "      <td>2024-08-28 14:30:00</td>\n",
              "      <td>0.991266</td>\n",
              "      <td>1.185181</td>\n",
              "      <td>0.852523</td>\n",
              "      <td>8</td>\n",
              "      <td>28</td>\n",
              "      <td>14</td>\n",
              "      <td>2024</td>\n",
              "      <td>0.780086</td>\n",
              "    </tr>\n",
              "    <tr>\n",
              "      <th>4</th>\n",
              "      <td>2024-08-28 17:30:00</td>\n",
              "      <td>0.406874</td>\n",
              "      <td>1.185181</td>\n",
              "      <td>1.279499</td>\n",
              "      <td>8</td>\n",
              "      <td>28</td>\n",
              "      <td>17</td>\n",
              "      <td>2024</td>\n",
              "      <td>0.711158</td>\n",
              "    </tr>\n",
              "    <tr>\n",
              "      <th>5</th>\n",
              "      <td>2024-08-28 20:30:00</td>\n",
              "      <td>-0.070692</td>\n",
              "      <td>1.166248</td>\n",
              "      <td>0.348221</td>\n",
              "      <td>8</td>\n",
              "      <td>28</td>\n",
              "      <td>20</td>\n",
              "      <td>2024</td>\n",
              "      <td>0.567596</td>\n",
              "    </tr>\n",
              "    <tr>\n",
              "      <th>6</th>\n",
              "      <td>2024-08-28 23:30:00</td>\n",
              "      <td>-0.466570</td>\n",
              "      <td>-0.443023</td>\n",
              "      <td>0.301152</td>\n",
              "      <td>8</td>\n",
              "      <td>28</td>\n",
              "      <td>23</td>\n",
              "      <td>2024</td>\n",
              "      <td>0.337569</td>\n",
              "    </tr>\n",
              "    <tr>\n",
              "      <th>7</th>\n",
              "      <td>2024-08-29 02:30:00</td>\n",
              "      <td>-0.887583</td>\n",
              "      <td>-0.045438</td>\n",
              "      <td>0.109518</td>\n",
              "      <td>8</td>\n",
              "      <td>29</td>\n",
              "      <td>2</td>\n",
              "      <td>2024</td>\n",
              "      <td>0.294386</td>\n",
              "    </tr>\n",
              "    <tr>\n",
              "      <th>8</th>\n",
              "      <td>2024-08-29 05:30:00</td>\n",
              "      <td>-1.415420</td>\n",
              "      <td>-0.367293</td>\n",
              "      <td>0.062449</td>\n",
              "      <td>8</td>\n",
              "      <td>29</td>\n",
              "      <td>5</td>\n",
              "      <td>2024</td>\n",
              "      <td>0.171099</td>\n",
              "    </tr>\n",
              "    <tr>\n",
              "      <th>9</th>\n",
              "      <td>2024-08-29 08:30:00</td>\n",
              "      <td>-0.227787</td>\n",
              "      <td>-0.859540</td>\n",
              "      <td>0.200292</td>\n",
              "      <td>8</td>\n",
              "      <td>29</td>\n",
              "      <td>8</td>\n",
              "      <td>2024</td>\n",
              "      <td>0.328991</td>\n",
              "    </tr>\n",
              "    <tr>\n",
              "      <th>10</th>\n",
              "      <td>2024-08-29 11:30:00</td>\n",
              "      <td>0.765050</td>\n",
              "      <td>-0.859540</td>\n",
              "      <td>-0.604911</td>\n",
              "      <td>8</td>\n",
              "      <td>29</td>\n",
              "      <td>11</td>\n",
              "      <td>2024</td>\n",
              "      <td>0.440775</td>\n",
              "    </tr>\n",
              "  </tbody>\n",
              "</table>\n",
              "</div>\n",
              "    <div class=\"colab-df-buttons\">\n",
              "\n",
              "  <div class=\"colab-df-container\">\n",
              "    <button class=\"colab-df-convert\" onclick=\"convertToInteractive('df-d56043eb-7f0f-40aa-8617-9f423c42558e')\"\n",
              "            title=\"Convert this dataframe to an interactive table.\"\n",
              "            style=\"display:none;\">\n",
              "\n",
              "  <svg xmlns=\"http://www.w3.org/2000/svg\" height=\"24px\" viewBox=\"0 -960 960 960\">\n",
              "    <path d=\"M120-120v-720h720v720H120Zm60-500h600v-160H180v160Zm220 220h160v-160H400v160Zm0 220h160v-160H400v160ZM180-400h160v-160H180v160Zm440 0h160v-160H620v160ZM180-180h160v-160H180v160Zm440 0h160v-160H620v160Z\"/>\n",
              "  </svg>\n",
              "    </button>\n",
              "\n",
              "  <style>\n",
              "    .colab-df-container {\n",
              "      display:flex;\n",
              "      gap: 12px;\n",
              "    }\n",
              "\n",
              "    .colab-df-convert {\n",
              "      background-color: #E8F0FE;\n",
              "      border: none;\n",
              "      border-radius: 50%;\n",
              "      cursor: pointer;\n",
              "      display: none;\n",
              "      fill: #1967D2;\n",
              "      height: 32px;\n",
              "      padding: 0 0 0 0;\n",
              "      width: 32px;\n",
              "    }\n",
              "\n",
              "    .colab-df-convert:hover {\n",
              "      background-color: #E2EBFA;\n",
              "      box-shadow: 0px 1px 2px rgba(60, 64, 67, 0.3), 0px 1px 3px 1px rgba(60, 64, 67, 0.15);\n",
              "      fill: #174EA6;\n",
              "    }\n",
              "\n",
              "    .colab-df-buttons div {\n",
              "      margin-bottom: 4px;\n",
              "    }\n",
              "\n",
              "    [theme=dark] .colab-df-convert {\n",
              "      background-color: #3B4455;\n",
              "      fill: #D2E3FC;\n",
              "    }\n",
              "\n",
              "    [theme=dark] .colab-df-convert:hover {\n",
              "      background-color: #434B5C;\n",
              "      box-shadow: 0px 1px 3px 1px rgba(0, 0, 0, 0.15);\n",
              "      filter: drop-shadow(0px 1px 2px rgba(0, 0, 0, 0.3));\n",
              "      fill: #FFFFFF;\n",
              "    }\n",
              "  </style>\n",
              "\n",
              "    <script>\n",
              "      const buttonEl =\n",
              "        document.querySelector('#df-d56043eb-7f0f-40aa-8617-9f423c42558e button.colab-df-convert');\n",
              "      buttonEl.style.display =\n",
              "        google.colab.kernel.accessAllowed ? 'block' : 'none';\n",
              "\n",
              "      async function convertToInteractive(key) {\n",
              "        const element = document.querySelector('#df-d56043eb-7f0f-40aa-8617-9f423c42558e');\n",
              "        const dataTable =\n",
              "          await google.colab.kernel.invokeFunction('convertToInteractive',\n",
              "                                                    [key], {});\n",
              "        if (!dataTable) return;\n",
              "\n",
              "        const docLinkHtml = 'Like what you see? Visit the ' +\n",
              "          '<a target=\"_blank\" href=https://colab.research.google.com/notebooks/data_table.ipynb>data table notebook</a>'\n",
              "          + ' to learn more about interactive tables.';\n",
              "        element.innerHTML = '';\n",
              "        dataTable['output_type'] = 'display_data';\n",
              "        await google.colab.output.renderOutput(dataTable, element);\n",
              "        const docLink = document.createElement('div');\n",
              "        docLink.innerHTML = docLinkHtml;\n",
              "        element.appendChild(docLink);\n",
              "      }\n",
              "    </script>\n",
              "  </div>\n",
              "\n",
              "\n",
              "<div id=\"df-572a0d85-1b39-476b-bdd5-0290c2ae82e1\">\n",
              "  <button class=\"colab-df-quickchart\" onclick=\"quickchart('df-572a0d85-1b39-476b-bdd5-0290c2ae82e1')\"\n",
              "            title=\"Suggest charts\"\n",
              "            style=\"display:none;\">\n",
              "\n",
              "<svg xmlns=\"http://www.w3.org/2000/svg\" height=\"24px\"viewBox=\"0 0 24 24\"\n",
              "     width=\"24px\">\n",
              "    <g>\n",
              "        <path d=\"M19 3H5c-1.1 0-2 .9-2 2v14c0 1.1.9 2 2 2h14c1.1 0 2-.9 2-2V5c0-1.1-.9-2-2-2zM9 17H7v-7h2v7zm4 0h-2V7h2v10zm4 0h-2v-4h2v4z\"/>\n",
              "    </g>\n",
              "</svg>\n",
              "  </button>\n",
              "\n",
              "<style>\n",
              "  .colab-df-quickchart {\n",
              "      --bg-color: #E8F0FE;\n",
              "      --fill-color: #1967D2;\n",
              "      --hover-bg-color: #E2EBFA;\n",
              "      --hover-fill-color: #174EA6;\n",
              "      --disabled-fill-color: #AAA;\n",
              "      --disabled-bg-color: #DDD;\n",
              "  }\n",
              "\n",
              "  [theme=dark] .colab-df-quickchart {\n",
              "      --bg-color: #3B4455;\n",
              "      --fill-color: #D2E3FC;\n",
              "      --hover-bg-color: #434B5C;\n",
              "      --hover-fill-color: #FFFFFF;\n",
              "      --disabled-bg-color: #3B4455;\n",
              "      --disabled-fill-color: #666;\n",
              "  }\n",
              "\n",
              "  .colab-df-quickchart {\n",
              "    background-color: var(--bg-color);\n",
              "    border: none;\n",
              "    border-radius: 50%;\n",
              "    cursor: pointer;\n",
              "    display: none;\n",
              "    fill: var(--fill-color);\n",
              "    height: 32px;\n",
              "    padding: 0;\n",
              "    width: 32px;\n",
              "  }\n",
              "\n",
              "  .colab-df-quickchart:hover {\n",
              "    background-color: var(--hover-bg-color);\n",
              "    box-shadow: 0 1px 2px rgba(60, 64, 67, 0.3), 0 1px 3px 1px rgba(60, 64, 67, 0.15);\n",
              "    fill: var(--button-hover-fill-color);\n",
              "  }\n",
              "\n",
              "  .colab-df-quickchart-complete:disabled,\n",
              "  .colab-df-quickchart-complete:disabled:hover {\n",
              "    background-color: var(--disabled-bg-color);\n",
              "    fill: var(--disabled-fill-color);\n",
              "    box-shadow: none;\n",
              "  }\n",
              "\n",
              "  .colab-df-spinner {\n",
              "    border: 2px solid var(--fill-color);\n",
              "    border-color: transparent;\n",
              "    border-bottom-color: var(--fill-color);\n",
              "    animation:\n",
              "      spin 1s steps(1) infinite;\n",
              "  }\n",
              "\n",
              "  @keyframes spin {\n",
              "    0% {\n",
              "      border-color: transparent;\n",
              "      border-bottom-color: var(--fill-color);\n",
              "      border-left-color: var(--fill-color);\n",
              "    }\n",
              "    20% {\n",
              "      border-color: transparent;\n",
              "      border-left-color: var(--fill-color);\n",
              "      border-top-color: var(--fill-color);\n",
              "    }\n",
              "    30% {\n",
              "      border-color: transparent;\n",
              "      border-left-color: var(--fill-color);\n",
              "      border-top-color: var(--fill-color);\n",
              "      border-right-color: var(--fill-color);\n",
              "    }\n",
              "    40% {\n",
              "      border-color: transparent;\n",
              "      border-right-color: var(--fill-color);\n",
              "      border-top-color: var(--fill-color);\n",
              "    }\n",
              "    60% {\n",
              "      border-color: transparent;\n",
              "      border-right-color: var(--fill-color);\n",
              "    }\n",
              "    80% {\n",
              "      border-color: transparent;\n",
              "      border-right-color: var(--fill-color);\n",
              "      border-bottom-color: var(--fill-color);\n",
              "    }\n",
              "    90% {\n",
              "      border-color: transparent;\n",
              "      border-bottom-color: var(--fill-color);\n",
              "    }\n",
              "  }\n",
              "</style>\n",
              "\n",
              "  <script>\n",
              "    async function quickchart(key) {\n",
              "      const quickchartButtonEl =\n",
              "        document.querySelector('#' + key + ' button');\n",
              "      quickchartButtonEl.disabled = true;  // To prevent multiple clicks.\n",
              "      quickchartButtonEl.classList.add('colab-df-spinner');\n",
              "      try {\n",
              "        const charts = await google.colab.kernel.invokeFunction(\n",
              "            'suggestCharts', [key], {});\n",
              "      } catch (error) {\n",
              "        console.error('Error during call to suggestCharts:', error);\n",
              "      }\n",
              "      quickchartButtonEl.classList.remove('colab-df-spinner');\n",
              "      quickchartButtonEl.classList.add('colab-df-quickchart-complete');\n",
              "    }\n",
              "    (() => {\n",
              "      let quickchartButtonEl =\n",
              "        document.querySelector('#df-572a0d85-1b39-476b-bdd5-0290c2ae82e1 button');\n",
              "      quickchartButtonEl.style.display =\n",
              "        google.colab.kernel.accessAllowed ? 'block' : 'none';\n",
              "    })();\n",
              "  </script>\n",
              "</div>\n",
              "\n",
              "    </div>\n",
              "  </div>\n"
            ],
            "text/plain": [
              "                #NAME?  Temperature(℃)  Rainfall (mm)  Relative Humidity(%)  \\\n",
              "1  2024-08-28 08:30:00        0.237213      -0.859540             -1.561404   \n",
              "2  2024-08-28 11:30:00        0.909577      -0.253697              0.104475   \n",
              "3  2024-08-28 14:30:00        0.991266       1.185181              0.852523   \n",
              "4  2024-08-28 17:30:00        0.406874       1.185181              1.279499   \n",
              "5  2024-08-28 20:30:00       -0.070692       1.166248              0.348221   \n",
              "6  2024-08-28 23:30:00       -0.466570      -0.443023              0.301152   \n",
              "7  2024-08-29 02:30:00       -0.887583      -0.045438              0.109518   \n",
              "8  2024-08-29 05:30:00       -1.415420      -0.367293              0.062449   \n",
              "9  2024-08-29 08:30:00       -0.227787      -0.859540              0.200292   \n",
              "10 2024-08-29 11:30:00        0.765050      -0.859540             -0.604911   \n",
              "\n",
              "    month  day  hour  year  Risk_Factor  \n",
              "1       8   28     8  2024     0.289048  \n",
              "2       8   28    11  2024     0.572729  \n",
              "3       8   28    14  2024     0.780086  \n",
              "4       8   28    17  2024     0.711158  \n",
              "5       8   28    20  2024     0.567596  \n",
              "6       8   28    23  2024     0.337569  \n",
              "7       8   29     2  2024     0.294386  \n",
              "8       8   29     5  2024     0.171099  \n",
              "9       8   29     8  2024     0.328991  \n",
              "10      8   29    11  2024     0.440775  "
            ]
          },
          "execution_count": 94,
          "metadata": {},
          "output_type": "execute_result"
        }
      ],
      "source": [
        "data.head(10)"
      ]
    },
    {
      "cell_type": "code",
      "execution_count": null,
      "metadata": {
        "colab": {
          "base_uri": "https://localhost:8080/",
          "height": 526
        },
        "id": "192JIxuah1TQ",
        "outputId": "a302c3f9-e8ee-4dac-9f93-bb592739d995"
      },
      "outputs": [
        {
          "data": {
            "image/png": "[encoded data removed]",
            "text/plain": [
              "<Figure size 1500x1000 with 8 Axes>"
            ]
          },
          "metadata": {},
          "output_type": "display_data"
        }
      ],
      "source": [
        "# Plot box plots for each feature\n",
        "plt.figure(figsize=(15, 10))\n",
        "X=data.drop(['#NAME?'],axis=1)\n",
        "features=X.columns\n",
        "for i, feature in enumerate(features):\n",
        "    plt.subplot(4, 4, i + 1)  # Adjust the number of rows and columns based on the number of features\n",
        "    sns.boxplot(x=X[feature])\n",
        "    plt.title(feature)\n",
        "    plt.xlabel('')\n",
        "\n",
        "plt.tight_layout()\n",
        "plt.show()"
      ]
    },
    {
      "cell_type": "code",
      "execution_count": null,
      "metadata": {
        "colab": {
          "background_save": true
        },
        "id": "uadH19mHBW3Z",
        "outputId": "92d115fc-1ecc-4b90-eef9-cbbce9c72afa"
      },
      "outputs": [
        {
          "ename": "KeyError",
          "evalue": "'#NAME?'",
          "output_type": "error",
          "traceback": [
            "\u001b[0;31m---------------------------------------------------------------------------\u001b[0m",
            "\u001b[0;31mKeyError\u001b[0m                                  Traceback (most recent call last)",
            "\u001b[0;32m/usr/local/lib/python3.10/dist-packages/pandas/core/indexes/base.py\u001b[0m in \u001b[0;36mget_loc\u001b[0;34m(self, key)\u001b[0m\n\u001b[1;32m   3790\u001b[0m         \u001b[0;32mtry\u001b[0m\u001b[0;34m:\u001b[0m\u001b[0;34m\u001b[0m\u001b[0;34m\u001b[0m\u001b[0m\n\u001b[0;32m-> 3791\u001b[0;31m             \u001b[0;32mreturn\u001b[0m \u001b[0mself\u001b[0m\u001b[0;34m.\u001b[0m\u001b[0m_engine\u001b[0m\u001b[0;34m.\u001b[0m\u001b[0mget_loc\u001b[0m\u001b[0;34m(\u001b[0m\u001b[0mcasted_key\u001b[0m\u001b[0;34m)\u001b[0m\u001b[0;34m\u001b[0m\u001b[0;34m\u001b[0m\u001b[0m\n\u001b[0m\u001b[1;32m   3792\u001b[0m         \u001b[0;32mexcept\u001b[0m \u001b[0mKeyError\u001b[0m \u001b[0;32mas\u001b[0m \u001b[0merr\u001b[0m\u001b[0;34m:\u001b[0m\u001b[0;34m\u001b[0m\u001b[0;34m\u001b[0m\u001b[0m\n",
            "\u001b[0;32mindex.pyx\u001b[0m in \u001b[0;36mpandas._libs.index.IndexEngine.get_loc\u001b[0;34m()\u001b[0m\n",
            "\u001b[0;32mindex.pyx\u001b[0m in \u001b[0;36mpandas._libs.index.IndexEngine.get_loc\u001b[0;34m()\u001b[0m\n",
            "\u001b[0;32mpandas/_libs/hashtable_class_helper.pxi\u001b[0m in \u001b[0;36mpandas._libs.hashtable.PyObjectHashTable.get_item\u001b[0;34m()\u001b[0m\n",
            "\u001b[0;32mpandas/_libs/hashtable_class_helper.pxi\u001b[0m in \u001b[0;36mpandas._libs.hashtable.PyObjectHashTable.get_item\u001b[0;34m()\u001b[0m\n",
            "\u001b[0;31mKeyError\u001b[0m: '#NAME?'",
            "\nThe above exception was the direct cause of the following exception:\n",
            "\u001b[0;31mKeyError\u001b[0m                                  Traceback (most recent call last)",
            "\u001b[0;32m<ipython-input-10-1840d9dd7c25>\u001b[0m in \u001b[0;36m<cell line: 2>\u001b[0;34m()\u001b[0m\n\u001b[1;32m      1\u001b[0m \u001b[0;31m# Extract month, day, and hour from the 'date' column\u001b[0m\u001b[0;34m\u001b[0m\u001b[0;34m\u001b[0m\u001b[0m\n\u001b[0;32m----> 2\u001b[0;31m \u001b[0mdata\u001b[0m\u001b[0;34m[\u001b[0m\u001b[0;34m'month'\u001b[0m\u001b[0;34m]\u001b[0m \u001b[0;34m=\u001b[0m \u001b[0mdata\u001b[0m\u001b[0;34m[\u001b[0m\u001b[0;34m'#NAME?'\u001b[0m\u001b[0;34m]\u001b[0m\u001b[0;34m.\u001b[0m\u001b[0mdt\u001b[0m\u001b[0;34m.\u001b[0m\u001b[0mmonth\u001b[0m\u001b[0;34m\u001b[0m\u001b[0;34m\u001b[0m\u001b[0m\n\u001b[0m\u001b[1;32m      3\u001b[0m \u001b[0mdata\u001b[0m\u001b[0;34m[\u001b[0m\u001b[0;34m'day'\u001b[0m\u001b[0;34m]\u001b[0m \u001b[0;34m=\u001b[0m \u001b[0mdata\u001b[0m\u001b[0;34m[\u001b[0m\u001b[0;34m'#NAME?'\u001b[0m\u001b[0;34m]\u001b[0m\u001b[0;34m.\u001b[0m\u001b[0mdt\u001b[0m\u001b[0;34m.\u001b[0m\u001b[0mday\u001b[0m\u001b[0;34m\u001b[0m\u001b[0;34m\u001b[0m\u001b[0m\n\u001b[1;32m      4\u001b[0m \u001b[0mdata\u001b[0m\u001b[0;34m[\u001b[0m\u001b[0;34m'hour'\u001b[0m\u001b[0;34m]\u001b[0m \u001b[0;34m=\u001b[0m \u001b[0mdata\u001b[0m\u001b[0;34m[\u001b[0m\u001b[0;34m'#NAME?'\u001b[0m\u001b[0;34m]\u001b[0m\u001b[0;34m.\u001b[0m\u001b[0mdt\u001b[0m\u001b[0;34m.\u001b[0m\u001b[0mhour\u001b[0m\u001b[0;34m\u001b[0m\u001b[0;34m\u001b[0m\u001b[0m\n\u001b[1;32m      5\u001b[0m \u001b[0mdata\u001b[0m\u001b[0;34m[\u001b[0m\u001b[0;34m'year'\u001b[0m\u001b[0;34m]\u001b[0m \u001b[0;34m=\u001b[0m \u001b[0mdata\u001b[0m\u001b[0;34m[\u001b[0m\u001b[0;34m'#NAME?'\u001b[0m\u001b[0;34m]\u001b[0m\u001b[0;34m.\u001b[0m\u001b[0mdt\u001b[0m\u001b[0;34m.\u001b[0m\u001b[0myear\u001b[0m\u001b[0;34m\u001b[0m\u001b[0;34m\u001b[0m\u001b[0m\n",
            "\u001b[0;32m/usr/local/lib/python3.10/dist-packages/pandas/core/frame.py\u001b[0m in \u001b[0;36m__getitem__\u001b[0;34m(self, key)\u001b[0m\n\u001b[1;32m   3891\u001b[0m             \u001b[0;32mif\u001b[0m \u001b[0mself\u001b[0m\u001b[0;34m.\u001b[0m\u001b[0mcolumns\u001b[0m\u001b[0;34m.\u001b[0m\u001b[0mnlevels\u001b[0m \u001b[0;34m>\u001b[0m \u001b[0;36m1\u001b[0m\u001b[0;34m:\u001b[0m\u001b[0;34m\u001b[0m\u001b[0;34m\u001b[0m\u001b[0m\n\u001b[1;32m   3892\u001b[0m                 \u001b[0;32mreturn\u001b[0m \u001b[0mself\u001b[0m\u001b[0;34m.\u001b[0m\u001b[0m_getitem_multilevel\u001b[0m\u001b[0;34m(\u001b[0m\u001b[0mkey\u001b[0m\u001b[0;34m)\u001b[0m\u001b[0;34m\u001b[0m\u001b[0;34m\u001b[0m\u001b[0m\n\u001b[0;32m-> 3893\u001b[0;31m             \u001b[0mindexer\u001b[0m \u001b[0;34m=\u001b[0m \u001b[0mself\u001b[0m\u001b[0;34m.\u001b[0m\u001b[0mcolumns\u001b[0m\u001b[0;34m.\u001b[0m\u001b[0mget_loc\u001b[0m\u001b[0;34m(\u001b[0m\u001b[0mkey\u001b[0m\u001b[0;34m)\u001b[0m\u001b[0;34m\u001b[0m\u001b[0;34m\u001b[0m\u001b[0m\n\u001b[0m\u001b[1;32m   3894\u001b[0m             \u001b[0;32mif\u001b[0m \u001b[0mis_integer\u001b[0m\u001b[0;34m(\u001b[0m\u001b[0mindexer\u001b[0m\u001b[0;34m)\u001b[0m\u001b[0;34m:\u001b[0m\u001b[0;34m\u001b[0m\u001b[0;34m\u001b[0m\u001b[0m\n\u001b[1;32m   3895\u001b[0m                 \u001b[0mindexer\u001b[0m \u001b[0;34m=\u001b[0m \u001b[0;34m[\u001b[0m\u001b[0mindexer\u001b[0m\u001b[0;34m]\u001b[0m\u001b[0;34m\u001b[0m\u001b[0;34m\u001b[0m\u001b[0m\n",
            "\u001b[0;32m/usr/local/lib/python3.10/dist-packages/pandas/core/indexes/base.py\u001b[0m in \u001b[0;36mget_loc\u001b[0;34m(self, key)\u001b[0m\n\u001b[1;32m   3796\u001b[0m             ):\n\u001b[1;32m   3797\u001b[0m                 \u001b[0;32mraise\u001b[0m \u001b[0mInvalidIndexError\u001b[0m\u001b[0;34m(\u001b[0m\u001b[0mkey\u001b[0m\u001b[0;34m)\u001b[0m\u001b[0;34m\u001b[0m\u001b[0;34m\u001b[0m\u001b[0m\n\u001b[0;32m-> 3798\u001b[0;31m             \u001b[0;32mraise\u001b[0m \u001b[0mKeyError\u001b[0m\u001b[0;34m(\u001b[0m\u001b[0mkey\u001b[0m\u001b[0;34m)\u001b[0m \u001b[0;32mfrom\u001b[0m \u001b[0merr\u001b[0m\u001b[0;34m\u001b[0m\u001b[0;34m\u001b[0m\u001b[0m\n\u001b[0m\u001b[1;32m   3799\u001b[0m         \u001b[0;32mexcept\u001b[0m \u001b[0mTypeError\u001b[0m\u001b[0;34m:\u001b[0m\u001b[0;34m\u001b[0m\u001b[0;34m\u001b[0m\u001b[0m\n\u001b[1;32m   3800\u001b[0m             \u001b[0;31m# If we have a listlike key, _check_indexing_error will raise\u001b[0m\u001b[0;34m\u001b[0m\u001b[0;34m\u001b[0m\u001b[0m\n",
            "\u001b[0;31mKeyError\u001b[0m: '#NAME?'"
          ]
        }
      ],
      "source": [
        "# Extract month, day, and hour from the 'date' column\n",
        "data['month'] = data['#NAME?'].dt.month\n",
        "data['day'] = data['#NAME?'].dt.day\n",
        "data['hour'] = data['#NAME?'].dt.hour\n",
        "data['year'] = data['#NAME?'].dt.year"
      ]
    },
    {
      "cell_type": "code",
      "execution_count": null,
      "metadata": {
        "colab": {
          "base_uri": "https://localhost:8080/"
        },
        "id": "AL-Uzoa_ibJL",
        "outputId": "d90a26e5-7b2c-4cad-f72c-c853b246a69e"
      },
      "outputs": [
        {
          "name": "stdout",
          "output_type": "stream",
          "text": [
            "               #NAME?  Temperature(℃)  Rainfall (mm)  Relative Humidity(%)  \\\n",
            "1 2024-08-28 08:30:00        0.237213      -0.859540             -1.561404   \n",
            "2 2024-08-28 11:30:00        0.909577      -0.253697              0.104475   \n",
            "3 2024-08-28 14:30:00        0.991266       1.185181              0.852523   \n",
            "4 2024-08-28 17:30:00        0.406874       1.185181              1.279499   \n",
            "5 2024-08-28 20:30:00       -0.070692       1.166248              0.348221   \n",
            "\n",
            "   month  day  hour  year  Risk_Factor  \n",
            "1      8   28     8  2024     0.289048  \n",
            "2      8   28    11  2024     0.572729  \n",
            "3      8   28    14  2024     0.780086  \n",
            "4      8   28    17  2024     0.711158  \n",
            "5      8   28    20  2024     0.567596  \n"
          ]
        }
      ],
      "source": [
        "# Feature scaling: Standardize the features\n",
        "scaler = StandardScaler()\n",
        "data[['Temperature(℃)', 'Rainfall (mm)', 'Relative Humidity(%)']] = scaler.fit_transform(data[['Temperature(℃)', 'Rainfall (mm)', 'Relative Humidity(%)']])\n",
        "\n",
        "# Define weights for each feature based on domain knowledge or testing\n",
        "# For example: Temperature might have the highest impact, followed by Rainfall, and then Humidity\n",
        "weights = {'Temperature(℃)': 0.5, 'Rainfall (mm)': 0.3, 'Relative Humidity(%)': 0.2}\n",
        "\n",
        "# Compute a risk score as a weighted sum of the standardized features\n",
        "data['Risk_Factor'] = (weights['Temperature(℃)'] * data['Temperature(℃)'] +weights['Rainfall (mm)'] * data['Rainfall (mm)'] +weights['Relative Humidity(%)'] * data['Relative Humidity(%)'])\n",
        "\n",
        "# Normalize the risk factor to bring it between 0 and 1\n",
        "data['Risk_Factor'] = (data['Risk_Factor'] - data['Risk_Factor'].min()) / (data['Risk_Factor'].max() - data['Risk_Factor'].min())\n",
        "\n",
        "# Display the first few rows with the computed Risk_Factor\n",
        "print(data.head())\n"
      ]
    },
    {
      "cell_type": "code",
      "execution_count": null,
      "metadata": {
        "colab": {
          "base_uri": "https://localhost:8080/",
          "height": 832
        },
        "id": "2JeoMH52h_KC",
        "outputId": "4c500049-8888-48b7-a705-a19e3a336833"
      },
      "outputs": [
        {
          "data": {
            "image/png": "[encoded data removed]",
            "text/plain": [
              "<Figure size 1200x800 with 2 Axes>"
            ]
          },
          "metadata": {},
          "output_type": "display_data"
        }
      ],
      "source": [
        "plt.figure(figsize=(12, 8))\n",
        "sns.heatmap(data.corr(), annot=True, cmap='Reds')\n",
        "plt.title('Correlation Heatmap of Glacier Mountain')\n",
        "plt.show()"
      ]
    },
    {
      "cell_type": "code",
      "execution_count": null,
      "metadata": {
        "id": "b3qVR0eES3rk"
      },
      "outputs": [],
      "source": [
        "# Save the updated dataframe to a new CSV file\n",
        "data.to_csv('glof_risk_with_scores.csv', index=False)"
      ]
    },
    {
      "cell_type": "code",
      "execution_count": null,
      "metadata": {
        "colab": {
          "base_uri": "https://localhost:8080/",
          "height": 472
        },
        "id": "FW8x4IedS9nG",
        "outputId": "42eddc1b-8e62-41ec-98dd-6779e2427b09"
      },
      "outputs": [
        {
          "data": {
            "image/png": "[encoded data removed]",
            "text/plain": [
              "<Figure size 640x480 with 1 Axes>"
            ]
          },
          "metadata": {},
          "output_type": "display_data"
        }
      ],
      "source": [
        "# Optionally, you can plot the risk factor distribution\n",
        "import matplotlib.pyplot as plt\n",
        "\n",
        "plt.hist(data['Risk_Factor'], bins=20, color='blue', alpha=0.7)\n",
        "plt.title('GLOF Risk Factor Distribution')\n",
        "plt.xlabel('Risk Factor')\n",
        "plt.ylabel('Frequency')\n",
        "plt.show()"
      ]
    },
    {
      "cell_type": "code",
      "execution_count": null,
      "metadata": {
        "id": "z9uR4eq8T8LJ"
      },
      "outputs": [],
      "source": [
        "X = data[['hour', 'day', 'month', 'year', 'Temperature(℃)', 'Rainfall (mm)', 'Relative Humidity(%)']]  # Input features\n",
        "y = data['Risk_Factor']  # Target: Risk score predicting the likelihood of a GLOF event"
      ]
    },
    {
      "cell_type": "code",
      "execution_count": null,
      "metadata": {
        "id": "UxQEZz3zi6yS"
      },
      "outputs": [],
      "source": [
        "# 5. Split Data for Time-Series Cross Validation\n",
        "# Using TimeSeriesSplit to respect the temporal order in the data\n",
        "\n",
        "from sklearn.model_selection import TimeSeriesSplit\n",
        "\n",
        "\n",
        "tscv = TimeSeriesSplit(n_splits=5)\n",
        "rmse_list, mae_list, r2_list = [], [], []"
      ]
    },
    {
      "cell_type": "code",
      "execution_count": null,
      "metadata": {
        "id": "ShBUbXSSqApB"
      },
      "outputs": [],
      "source": [
        "# 6. Train and Evaluate the Model using TimeSeriesSplit\n",
        "for train_index, test_index in tscv.split(X):\n",
        "    X_train, X_test = X.iloc[train_index], X.iloc[test_index]\n",
        "    y_train, y_test = y.iloc[train_index], y.iloc[test_index]"
      ]
    },
    {
      "cell_type": "code",
      "execution_count": null,
      "metadata": {
        "colab": {
          "base_uri": "https://localhost:8080/",
          "height": 75
        },
        "collapsed": true,
        "id": "lirFuDHiantJ",
        "outputId": "86a7dbcd-c645-416f-f910-098a874c36ef"
      },
      "outputs": [
        {
          "data": {
            "text/html": [
              "<style>#sk-container-id-2 {color: black;}#sk-container-id-2 pre{padding: 0;}#sk-container-id-2 div.sk-toggleable {background-color: white;}#sk-container-id-2 label.sk-toggleable__label {cursor: pointer;display: block;width: 100%;margin-bottom: 0;padding: 0.3em;box-sizing: border-box;text-align: center;}#sk-container-id-2 label.sk-toggleable__label-arrow:before {content: \"▸\";float: left;margin-right: 0.25em;color: #696969;}#sk-container-id-2 label.sk-toggleable__label-arrow:hover:before {color: black;}#sk-container-id-2 div.sk-estimator:hover label.sk-toggleable__label-arrow:before {color: black;}#sk-container-id-2 div.sk-toggleable__content {max-height: 0;max-width: 0;overflow: hidden;text-align: left;background-color: #f0f8ff;}#sk-container-id-2 div.sk-toggleable__content pre {margin: 0.2em;color: black;border-radius: 0.25em;background-color: #f0f8ff;}#sk-container-id-2 input.sk-toggleable__control:checked~div.sk-toggleable__content {max-height: 200px;max-width: 100%;overflow: auto;}#sk-container-id-2 input.sk-toggleable__control:checked~label.sk-toggleable__label-arrow:before {content: \"▾\";}#sk-container-id-2 div.sk-estimator input.sk-toggleable__control:checked~label.sk-toggleable__label {background-color: #d4ebff;}#sk-container-id-2 div.sk-label input.sk-toggleable__control:checked~label.sk-toggleable__label {background-color: #d4ebff;}#sk-container-id-2 input.sk-hidden--visually {border: 0;clip: rect(1px 1px 1px 1px);clip: rect(1px, 1px, 1px, 1px);height: 1px;margin: -1px;overflow: hidden;padding: 0;position: absolute;width: 1px;}#sk-container-id-2 div.sk-estimator {font-family: monospace;background-color: #f0f8ff;border: 1px dotted black;border-radius: 0.25em;box-sizing: border-box;margin-bottom: 0.5em;}#sk-container-id-2 div.sk-estimator:hover {background-color: #d4ebff;}#sk-container-id-2 div.sk-parallel-item::after {content: \"\";width: 100%;border-bottom: 1px solid gray;flex-grow: 1;}#sk-container-id-2 div.sk-label:hover label.sk-toggleable__label {background-color: #d4ebff;}#sk-container-id-2 div.sk-serial::before {content: \"\";position: absolute;border-left: 1px solid gray;box-sizing: border-box;top: 0;bottom: 0;left: 50%;z-index: 0;}#sk-container-id-2 div.sk-serial {display: flex;flex-direction: column;align-items: center;background-color: white;padding-right: 0.2em;padding-left: 0.2em;position: relative;}#sk-container-id-2 div.sk-item {position: relative;z-index: 1;}#sk-container-id-2 div.sk-parallel {display: flex;align-items: stretch;justify-content: center;background-color: white;position: relative;}#sk-container-id-2 div.sk-item::before, #sk-container-id-2 div.sk-parallel-item::before {content: \"\";position: absolute;border-left: 1px solid gray;box-sizing: border-box;top: 0;bottom: 0;left: 50%;z-index: -1;}#sk-container-id-2 div.sk-parallel-item {display: flex;flex-direction: column;z-index: 1;position: relative;background-color: white;}#sk-container-id-2 div.sk-parallel-item:first-child::after {align-self: flex-end;width: 50%;}#sk-container-id-2 div.sk-parallel-item:last-child::after {align-self: flex-start;width: 50%;}#sk-container-id-2 div.sk-parallel-item:only-child::after {width: 0;}#sk-container-id-2 div.sk-dashed-wrapped {border: 1px dashed gray;margin: 0 0.4em 0.5em 0.4em;box-sizing: border-box;padding-bottom: 0.4em;background-color: white;}#sk-container-id-2 div.sk-label label {font-family: monospace;font-weight: bold;display: inline-block;line-height: 1.2em;}#sk-container-id-2 div.sk-label-container {text-align: center;}#sk-container-id-2 div.sk-container {/* jupyter's `normalize.less` sets `[hidden] { display: none; }` but bootstrap.min.css set `[hidden] { display: none !important; }` so we also need the `!important` here to be able to override the default hidden behavior on the sphinx rendered scikit-learn.org. See: https://github.com/scikit-learn/scikit-learn/issues/21755 */display: inline-block !important;position: relative;}#sk-container-id-2 div.sk-text-repr-fallback {display: none;}</style><div id=\"sk-container-id-2\" class=\"sk-top-container\"><div class=\"sk-text-repr-fallback\"><pre>LinearRegression()</pre><b>In a Jupyter environment, please rerun this cell to show the HTML representation or trust the notebook. <br />On GitHub, the HTML representation is unable to render, please try loading this page with nbviewer.org.</b></div><div class=\"sk-container\" hidden><div class=\"sk-item\"><div class=\"sk-estimator sk-toggleable\"><input class=\"sk-toggleable__control sk-hidden--visually\" id=\"sk-estimator-id-2\" type=\"checkbox\" checked><label for=\"sk-estimator-id-2\" class=\"sk-toggleable__label sk-toggleable__label-arrow\">LinearRegression</label><div class=\"sk-toggleable__content\"><pre>LinearRegression()</pre></div></div></div></div></div>"
            ],
            "text/plain": [
              "LinearRegression()"
            ]
          },
          "execution_count": 77,
          "metadata": {},
          "output_type": "execute_result"
        }
      ],
      "source": [
        "# Build and Train the Regression Model\n",
        "model = LinearRegression() # Removed extra indent\n",
        "model.fit(X_train, y_train)\n"
      ]
    },
    {
      "cell_type": "code",
      "execution_count": null,
      "metadata": {
        "id": "87iV2zZxqSX0"
      },
      "outputs": [],
      "source": [
        "# Predict on Test Set\n",
        "y_pred = model.predict(X_test)"
      ]
    },
    {
      "cell_type": "code",
      "execution_count": null,
      "metadata": {
        "id": "C9buWDeXqWSU"
      },
      "outputs": [],
      "source": [
        " # Evaluate the Model\n",
        "\n",
        "from sklearn.metrics import mean_squared_error, mean_absolute_error, r2_score\n",
        "\n",
        "# Calculate evaluation metrics\n",
        "mse = mean_squared_error(y_test, y_pred)\n",
        "rmse = np.sqrt(mse)\n",
        "mae = mean_absolute_error(y_test, y_pred)\n",
        "r2 = r2_score(y_test, y_pred)\n",
        "\n",
        "\n",
        "rmse_list.append(rmse)\n",
        "mae_list.append(mae)\n",
        "r2_list.append(r2)"
      ]
    },
    {
      "cell_type": "code",
      "execution_count": null,
      "metadata": {
        "id": "nneBY-MIqouF"
      },
      "outputs": [],
      "source": [
        "#Calculate Average Evaluation Metrics across all splits\n",
        "avg_rmse = np.mean(rmse_list)\n",
        "avg_mae = np.mean(mae_list)\n",
        "avg_r2 = np.mean(r2_list)"
      ]
    },
    {
      "cell_type": "code",
      "execution_count": null,
      "metadata": {
        "colab": {
          "base_uri": "https://localhost:8080/"
        },
        "id": "xuwLW4f4q23B",
        "outputId": "f2abb15c-6fe9-4eae-c42e-f97f268b07f9"
      },
      "outputs": [
        {
          "name": "stdout",
          "output_type": "stream",
          "text": [
            "Average RMSE (Root Mean Squared Error): 0.0000\n",
            "Average MAE (Mean Absolute Error): 0.0000\n",
            "Average R-squared (R²): 1.0000\n"
          ]
        }
      ],
      "source": [
        "# 8. Print Evaluation Metrics\n",
        "print(f\"Average RMSE (Root Mean Squared Error): {avg_rmse:.4f}\")\n",
        "print(f\"Average MAE (Mean Absolute Error): {avg_mae:.4f}\")\n",
        "print(f\"Average R-squared (R²): {avg_r2:.4f}\")"
      ]
    },
    {
      "cell_type": "code",
      "execution_count": null,
      "metadata": {
        "colab": {
          "base_uri": "https://localhost:8080/"
        },
        "id": "drLHK4y4q6fx",
        "outputId": "01a795af-3a44-4d8b-e516-2de51d314551"
      },
      "outputs": [
        {
          "name": "stdout",
          "output_type": "stream",
          "text": [
            "Feature Coefficients: [-7.43922585e-18 -1.38777878e-17 -8.36245136e-16  6.93889390e-18\n",
            "  1.66653895e-01  9.99923373e-02  6.66615582e-02]\n"
          ]
        }
      ],
      "source": [
        "# Optional: Print feature coefficients to understand which factors are most influential\n",
        "print(\"Feature Coefficients:\", model.coef_)"
      ]
    },
    {
      "cell_type": "code",
      "execution_count": null,
      "metadata": {
        "colab": {
          "base_uri": "https://localhost:8080/"
        },
        "id": "kee9Yy0ec7x1",
        "outputId": "afe6100a-7d5e-4ff1-c081-274b54ac35e7"
      },
      "outputs": [
        {
          "name": "stdout",
          "output_type": "stream",
          "text": [
            "Average RMSE (Root Mean Squared Error): 0.0000\n",
            "Average MAE (Mean Absolute Error): 0.0000\n",
            "Average R-squared (R²): 1.0000\n",
            "GLOF Risk Category: Low\n"
          ]
        }
      ],
      "source": [
        "# Assuming avg_rmse, avg_mae, and avg_r2 are calculated metrics from our model evaluation\n",
        "\n",
        "# Thresholds for categorization\n",
        "rmse_threshold_high = 0.5  # Example: RMSE above this is considered \"High\" risk\n",
        "rmse_threshold_low = 0.2   # Example: RMSE below this is considered \"Low\" risk\n",
        "\n",
        "mae_threshold_high = 0.4   # Example: MAE above this is considered \"High\" risk\n",
        "mae_threshold_low = 0.1    # Example: MAE below this is considered \"Low\" risk\n",
        "\n",
        "r2_threshold_high = 0.8    # Example: R² below this is considered \"High\" risk\n",
        "r2_threshold_low = 0.6     # Example: R² above this is considered \"Low\" risk\n",
        "\n",
        "# Function to categorize risk based on RMSE, MAE, and R²\n",
        "def categorize_risk_based_on_metrics(rmse, mae, r2):\n",
        "    if rmse > rmse_threshold_high or mae > mae_threshold_high or r2 < r2_threshold_low:\n",
        "        return \"High\"\n",
        "    elif rmse < rmse_threshold_low and mae < mae_threshold_low and r2 > r2_threshold_high:\n",
        "        return \"Low\"\n",
        "    else:\n",
        "        return \"Medium\"\n",
        "\n",
        "# Categorize risk based on the performance metrics\n",
        "risk_category = categorize_risk_based_on_metrics(avg_rmse, avg_mae, avg_r2)\n",
        "\n",
        "# Print the results\n",
        "print(f\"Average RMSE (Root Mean Squared Error): {avg_rmse:.4f}\")\n",
        "print(f\"Average MAE (Mean Absolute Error): {avg_mae:.4f}\")\n",
        "print(f\"Average R-squared (R²): {avg_r2:.4f}\")\n",
        "print(f\"GLOF Risk Category: {risk_category}\")\n"
      ]
    }
  ],
  "metadata": {
    "colab": {
      "provenance": []
    },
    "kernelspec": {
      "display_name": "Python 3",
      "name": "python3"
    },
    "language_info": {
      "name": "python"
    }
  },
  "nbformat": 4,
  "nbformat_minor": 0
}